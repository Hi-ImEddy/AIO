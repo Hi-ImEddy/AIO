{
  "cells": [
    {
      "cell_type": "code",
      "execution_count": 36,
      "metadata": {
        "colab": {
          "base_uri": "https://localhost:8080/"
        },
        "id": "exccign30D8W",
        "outputId": "f83570b0-7287-4fae-ed45-efb5cb2e0592"
      },
      "outputs": [
        {
          "name": "stdout",
          "output_type": "stream",
          "text": [
            "5\n",
            "5\n",
            "5\n",
            "5\n",
            "10\n",
            "12\n",
            "33\n",
            "33\n"
          ]
        }
      ],
      "source": [
        "# Bai 1 : k = 3\n",
        "def slice_window(num_list, k):\n",
        "    if int(k) < 1:\n",
        "        print(\"k should be int and >= 1\")\n",
        "    for i in range(len(num_list)):\n",
        "        data = num_list[i:i+k]\n",
        "        if len(data) < k:\n",
        "            break\n",
        "        print(max(data))\n",
        "    return\n",
        "\n",
        "\n",
        "# Test\n",
        "num_list = [3, 4, 5, 1, -44, 5, 10, 12, 33, 1]\n",
        "k = 3\n",
        "slice_window(num_list, k)"
      ]
    },
    {
      "cell_type": "code",
      "execution_count": 21,
      "metadata": {
        "colab": {
          "base_uri": "https://localhost:8080/"
        },
        "id": "0jUQv-2a3qEw",
        "outputId": "b24fbec5-8220-4d34-fec5-c8650ad2c29f"
      },
      "outputs": [
        {
          "name": "stdout",
          "output_type": "stream",
          "text": [
            "{'a': 2, 'b': 2, 'c': 1}\n"
          ]
        }
      ],
      "source": [
        "# Bai 2 :\n",
        "def count_chars(string):\n",
        "    chars = {}\n",
        "    for char in string:\n",
        "        if char in chars:\n",
        "            chars[char] += 1\n",
        "        else:\n",
        "            chars[char] = 1\n",
        "    return chars\n",
        "\n",
        "\n",
        "# Test\n",
        "string = \"aabbc\"\n",
        "print(count_chars(string))"
      ]
    },
    {
      "cell_type": "code",
      "execution_count": 25,
      "metadata": {
        "colab": {
          "base_uri": "https://localhost:8080/"
        },
        "id": "5HDUR1RP4n6B",
        "outputId": "ac3d35bc-05ff-4418-b606-abf40ae782d5"
      },
      "outputs": [
        {
          "name": "stdout",
          "output_type": "stream",
          "text": [
            "{'he': 1, 'who': 3, 'conquers': 1, 'himself': 1, 'is': 3, 'the': 5, 'mightiest': 1, 'warrior': 1, 'try': 2, 'not': 1, 'to': 3, 'become': 2, 'a': 7, 'man': 6, 'of': 4, 'success': 3, 'but': 1, 'rather': 1, 'value': 1, 'one': 4, 'with': 4, 'courage': 1, 'makes': 1, 'majority': 1, 'secret': 1, 'in': 4, 'life': 2, 'for': 3, 'be': 1, 'ready': 1, 'his': 2, 'opportunity': 1, 'when': 2, 'it': 2, 'comes': 2, 'successful': 2, 'will': 2, 'profit': 1, 'from': 1, 'mistakes': 1, 'and': 1, 'again': 1, 'different': 1, 'way': 1, 'can': 3, 'lay': 1, 'firm': 1, 'foundation': 1, 'bricks': 1, 'others': 1, 'have': 1, 'thrown': 1, 'at': 1, 'him': 1, 'usually': 1, 'those': 1, 'are': 1, 'too': 1, 'busy': 1, 'looking': 1, 'we': 3, 'cannot': 1, 'solve': 1, 'problems': 1, 'kind': 1, 'thinking': 1, 'employed': 1, 'came': 1, 'up': 1, 'them': 1, 'just': 2, 'small': 1, 'positive': 1, 'thought': 1, 'morning': 1, 'change': 1, 'your': 1, 'whole': 1, 'day': 1, 'you': 3, 'get': 2, 'everything': 1, 'want': 2, 'if': 1, 'help': 1, 'enough': 1, 'other': 1, 'people': 1, 'what': 1, 'they': 1}\n"
          ]
        }
      ],
      "source": [
        "# Bai 3:\n",
        "# ! gdown https://drive.google.com/uc?id=1IBScGdW2xlNsc9v5zSAya548kNgiOrko\n",
        "file_path = \"/content/P1_data.txt\"\n",
        "\n",
        "def word_counts(file_path):\n",
        "  with open(file_path, \"r\") as f:\n",
        "    text = f.read()\n",
        "    text = text.lower()\n",
        "    words = text.split()\n",
        "  return count_chars(words)\n",
        "\n",
        "#Test\n",
        "print(word_counts(file_path))"
      ]
    },
    {
      "cell_type": "code",
      "execution_count": 45,
      "metadata": {
        "colab": {
          "base_uri": "https://localhost:8080/"
        },
        "id": "t0qXyuQk6rfd",
        "outputId": "4ff1abbd-b1b4-4fcc-e88d-6bb749bd728b"
      },
      "outputs": [
        {
          "name": "stdout",
          "output_type": "stream",
          "text": [
            "3\n"
          ]
        }
      ],
      "source": [
        "# Bai 4 : Khoảng cách Levenshtein.\n",
        "\n",
        "def levenshtein_calculator(source_str, target_str):\n",
        "  row = len(source_str) + 1\n",
        "  col = len(target_str) + 1\n",
        "  dp = [[0 for _ in range(col)] for _ in range(row)]\n",
        "  for i in range(len(source_str) + 1):\n",
        "    dp[i][0] = i\n",
        "  for j in range(len(target_str) + 1):\n",
        "    dp[0][j] = j\n",
        "  for i in range(1, len(source_str) + 1):\n",
        "    for j in range(1, len(target_str) + 1):\n",
        "      if source_str[i - 1] == target_str[j - 1]:\n",
        "        dp[i][j] = dp[i - 1][j - 1]\n",
        "      else:\n",
        "        dp[i][j] = 1 + min(dp[i - 1][j], dp[i][j - 1], dp[i - 1][j - 1])\n",
        "  return dp[len(source_str)][len(target_str)]\n",
        "\n",
        "#Test\n",
        "source_str = \"hola\"\n",
        "target_str = \"hello\"\n",
        "print(levenshtein_calculator(source_str, target_str))\n"
      ]
    },
    {
      "cell_type": "code",
      "execution_count": 49,
      "metadata": {
        "id": "moZ624boVwtz"
      },
      "outputs": [],
      "source": [
        "#Câu hỏi 5\n",
        "def check_the_number(N):\n",
        "  list_of_numbers = []\n",
        "  result = \"\"\n",
        "  for i in range(1, 5):\n",
        "    list_of_numbers.append(i)\n",
        "  if N in list_of_numbers:\n",
        "    result = \"True\"\n",
        "  else:\n",
        "    result = \"False\"\n",
        "  return result\n",
        "\n",
        "#Test\n",
        "N = 7\n",
        "assert check_the_number(N) == \"False\"\n"
      ]
    },
    {
      "cell_type": "code",
      "execution_count": 52,
      "metadata": {
        "colab": {
          "base_uri": "https://localhost:8080/"
        },
        "id": "MELgFaceWnpY",
        "outputId": "a8669e60-0243-4bb1-f296-a2f1702fc128"
      },
      "outputs": [
        {
          "name": "stdout",
          "output_type": "stream",
          "text": [
            "[2, 2, 2, 1, 1]\n"
          ]
        }
      ],
      "source": [
        "#Câu hỏi 6\n",
        "def my_function(data, max, min):\n",
        "  result = []\n",
        "  for i in data:\n",
        "    if i > max:\n",
        "      result.append(max)\n",
        "    elif i < min:\n",
        "      result.append(min)\n",
        "    else:\n",
        "      result.append(i)\n",
        "  return result\n",
        "my_list = [5 , 2 , 5 , 0 , 1]\n",
        "max = 1\n",
        "min = 0\n",
        "assert my_function(max = max, min = min, data = my_list) == [1, 1, 1, 0, 1]\n",
        "my_list = [10 , 2 , 5 , 0 , 1]\n",
        "max = 2\n",
        "min = 1\n",
        "print(my_function(max = max, min = min, data = my_list))\n"
      ]
    },
    {
      "cell_type": "code",
      "execution_count": 59,
      "metadata": {
        "colab": {
          "base_uri": "https://localhost:8080/"
        },
        "id": "gflN018BYiR5",
        "outputId": "e61e2117-14ae-4d52-8657-e2601136fc84"
      },
      "outputs": [
        {
          "name": "stdout",
          "output_type": "stream",
          "text": [
            "['a', 2, 5, 1, 1, 0, 0]\n"
          ]
        }
      ],
      "source": [
        "#Câu hỏi 7\n",
        "def list_append(x, y):\n",
        "  return x + y\n",
        "list_num1 = ['a', 2 , 5]\n",
        "list_num2 = [1 , 1]\n",
        "list_num3 = [0, 0]\n",
        "print(list_append(list_num1, list_append(list_num2, list_num3)))\n",
        "\n"
      ]
    },
    {
      "cell_type": "code",
      "execution_count": 63,
      "metadata": {
        "colab": {
          "base_uri": "https://localhost:8080/"
        },
        "id": "SzJ6YYbKZW2l",
        "outputId": "7e55af8f-9b4d-4a1c-ab57-14e764b8c521"
      },
      "outputs": [
        {
          "name": "stdout",
          "output_type": "stream",
          "text": [
            "-100\n"
          ]
        }
      ],
      "source": [
        "#Cau 8\n",
        "def min_list(n):\n",
        "  min = n[0]\n",
        "  for i in n:\n",
        "    if i < min:\n",
        "      min = i\n",
        "  return min;\n",
        "my_list = [1 , 22 , 93 , -100]\n",
        "print(min_list(my_list))"
      ]
    },
    {
      "cell_type": "code",
      "execution_count": 64,
      "metadata": {
        "colab": {
          "base_uri": "https://localhost:8080/"
        },
        "id": "GKBu2QxMaVC6",
        "outputId": "0a91887e-fe6a-4b93-8784-13323702b3c4"
      },
      "outputs": [
        {
          "name": "stdout",
          "output_type": "stream",
          "text": [
            "93\n"
          ]
        }
      ],
      "source": [
        "#Cau 9\n",
        "def max_list(n):\n",
        "  max = n[0]\n",
        "  for i in n:\n",
        "    if i > max:\n",
        "      max = i\n",
        "  return max\n",
        "\n",
        "my_list = [1 , 22 , 93 , -100]\n",
        "print(max_list(my_list))"
      ]
    },
    {
      "cell_type": "code",
      "execution_count": 67,
      "metadata": {
        "colab": {
          "base_uri": "https://localhost:8080/"
        },
        "id": "HbCgF_AtasPS",
        "outputId": "2e8b2fe8-7d40-40a2-8cb4-8a4fe383d0d8"
      },
      "outputs": [
        {
          "name": "stdout",
          "output_type": "stream",
          "text": [
            "False\n"
          ]
        }
      ],
      "source": [
        "#Cau10\n",
        "def My_function(intergers, number = 1):\n",
        "  result = []\n",
        "  for i in intergers:\n",
        "    if i == number:\n",
        "      result.append(True)\n",
        "    else:\n",
        "      result.append(False)\n",
        "  return any(result)\n",
        "print(My_function([1, 2, 3], 4))"
      ]
    },
    {
      "cell_type": "code",
      "execution_count": 70,
      "metadata": {
        "colab": {
          "base_uri": "https://localhost:8080/"
        },
        "id": "TtzyvCOtcMzX",
        "outputId": "0dfdb08a-81d4-408d-8469-e0eebc8a1d3f"
      },
      "outputs": [
        {
          "name": "stdout",
          "output_type": "stream",
          "text": [
            "6.0\n"
          ]
        }
      ],
      "source": [
        "# Cau 11\n",
        "def my_function(list_nums=[0, 1, 2]):\n",
        "    var = 0\n",
        "    len_list = len(list_nums)\n",
        "    for i in list_nums:\n",
        "        var += i\n",
        "    return var / len_list\n",
        "\n",
        "\n",
        "print(my_function([4, 6, 8]))"
      ]
    },
    {
      "cell_type": "code",
      "execution_count": 72,
      "metadata": {
        "colab": {
          "base_uri": "https://localhost:8080/"
        },
        "id": "Jt7EApfPc4pw",
        "outputId": "45600a59-2852-41f9-ec9d-44dd00c59407"
      },
      "outputs": [
        {
          "name": "stdout",
          "output_type": "stream",
          "text": [
            "[3, 6]\n"
          ]
        }
      ],
      "source": [
        "# Cau 12\n",
        "def my_function(data):\n",
        "    var = []\n",
        "    for elem in data:\n",
        "        if elem % 3 == 0:\n",
        "            var.append(elem)\n",
        "    return var\n",
        "\n",
        "\n",
        "print(my_function([1, 2, 3, 5, 6]))"
      ]
    },
    {
      "cell_type": "code",
      "execution_count": 75,
      "metadata": {
        "colab": {
          "base_uri": "https://localhost:8080/"
        },
        "id": "8i6Olgy5dmEu",
        "outputId": "34b0e404-f4cd-4c11-a7e7-4eee95617241"
      },
      "outputs": [
        {
          "name": "stdout",
          "output_type": "stream",
          "text": [
            "24\n"
          ]
        }
      ],
      "source": [
        "# Cau 13\n",
        "def factorial_calculator(n):\n",
        "    if n == 0:\n",
        "        return 1\n",
        "    else:\n",
        "        return n * factorial_calculator(n - 1)\n",
        "\n",
        "print(factorial_calculator(4))"
      ]
    },
    {
      "cell_type": "code",
      "execution_count": 80,
      "metadata": {
        "colab": {
          "base_uri": "https://localhost:8080/"
        },
        "id": "Zg8L01vmeEEN",
        "outputId": "2886c58a-f916-494b-da15-26f34b5d37b8"
      },
      "outputs": [
        {
          "name": "stdout",
          "output_type": "stream",
          "text": [
            "dlroW olleH\n"
          ]
        }
      ],
      "source": [
        "# Cau 14\n",
        "def reflect_str(str):\n",
        "    return str[::-1]\n",
        "\n",
        "\n",
        "print(reflect_str(\"Hello World\"))"
      ]
    },
    {
      "cell_type": "code",
      "execution_count": 81,
      "metadata": {
        "colab": {
          "base_uri": "https://localhost:8080/"
        },
        "id": "3c0TD0d3e2sy",
        "outputId": "b8640399-110f-4aad-a962-8b6a92829ef9"
      },
      "outputs": [
        {
          "name": "stdout",
          "output_type": "stream",
          "text": [
            "['T', 'T', 'T']\n"
          ]
        }
      ],
      "source": [
        "# Cau 14\n",
        "def function_helper(x):\n",
        "    if (x > 0):\n",
        "        return 'T'\n",
        "    else:\n",
        "        return 'N'\n",
        "\n",
        "\n",
        "def my_function(data):\n",
        "    res = [function_helper(x) for x in data]\n",
        "    return res\n",
        "\n",
        "\n",
        "print(my_function([1, 2, 3]))"
      ]
    },
    {
      "cell_type": "code",
      "execution_count": 92,
      "metadata": {
        "colab": {
          "base_uri": "https://localhost:8080/"
        },
        "id": "bdRBbU_HfiJ9",
        "outputId": "6fcf0495-7904-4bff-c7b3-fa9ad05b1e96"
      },
      "outputs": [
        {
          "name": "stdout",
          "output_type": "stream",
          "text": [
            "[1, 2, 3]\n"
          ]
        }
      ],
      "source": [
        "# Cau 16\n",
        "def function_helper(x, data):\n",
        "    for i in data:\n",
        "        if i == x:\n",
        "            return False\n",
        "    return True\n",
        "\n",
        "\n",
        "def my_function(data):\n",
        "    res = []\n",
        "    for elem in data:\n",
        "        if function_helper(elem, res):\n",
        "            res.append(elem)\n",
        "    return res\n",
        "\n",
        "\n",
        "print(my_function([1, 1, 2, 3, 1]))"
      ]
    }
  ],
  "metadata": {
    "colab": {
      "provenance": []
    },
    "kernelspec": {
      "display_name": "Python 3",
      "name": "python3"
    },
    "language_info": {
      "name": "python"
    }
  },
  "nbformat": 4,
  "nbformat_minor": 0
}
