{
  "nbformat": 4,
  "nbformat_minor": 0,
  "metadata": {
    "colab": {
      "provenance": [],
      "gpuType": "T4",
      "authorship_tag": "ABX9TyPx7MrcsHzeM+JaU4738LBq",
      "include_colab_link": true
    },
    "kernelspec": {
      "name": "python3",
      "display_name": "Python 3"
    },
    "language_info": {
      "name": "python"
    },
    "accelerator": "GPU"
  },
  "cells": [
    {
      "cell_type": "markdown",
      "metadata": {
        "id": "view-in-github",
        "colab_type": "text"
      },
      "source": [
        "<a href=\"https://colab.research.google.com/github/Hi-ImEddy/AIO/blob/feature%2FM03W03/DecisionTree.ipynb\" target=\"_parent\"><img src=\"https://colab.research.google.com/assets/colab-badge.svg\" alt=\"Open In Colab\"/></a>"
      ]
    },
    {
      "cell_type": "code",
      "execution_count": 3,
      "metadata": {
        "colab": {
          "base_uri": "https://localhost:8080/"
        },
        "id": "B5_sliBHcu9B",
        "outputId": "168d309e-8a41-4f10-9ea2-857369c90221"
      },
      "outputs": [
        {
          "output_type": "execute_result",
          "data": {
            "text/plain": [
              "1.0"
            ]
          },
          "metadata": {},
          "execution_count": 3
        }
      ],
      "source": [
        "# Cau 8 + 7\n",
        "from sklearn import datasets\n",
        "from sklearn.model_selection import train_test_split\n",
        "from sklearn.metrics import accuracy_score\n",
        "from sklearn.tree import DecisionTreeClassifier\n",
        "# Load the diabetes dataset\n",
        "iris_X, iris_y = datasets.load_iris(return_X_y=True)\n",
        "X_train , X_test , y_train , y_test = train_test_split(iris_X, iris_y, test_size =0.2 , random_state =42)\n",
        "\n",
        "# Define model\n",
        "dt_classifier = DecisionTreeClassifier()\n",
        "\n",
        "# Train\n",
        "dt_classifier.fit(X_train, y_train)\n",
        "\n",
        "# Preidct and evaluate\n",
        "y_pred = dt_classifier.predict(X_test)\n",
        "accuracy_score (y_test, y_pred)"
      ]
    },
    {
      "cell_type": "code",
      "source": [
        "# Cau 11\n",
        "from sklearn.datasets import fetch_openml\n",
        "from sklearn.model_selection import train_test_split\n",
        "from sklearn.metrics import mean_squared_error\n",
        "from sklearn.tree import DecisionTreeRegressor\n",
        "\n",
        "# Load dataset\n",
        "machine_cpu = fetch_openml(name ='machine_cpu')\n",
        "machine_data = machine_cpu.data\n",
        "machine_labels = machine_cpu.target\n",
        "# Split train : test = 8:2\n",
        "X_train , X_test , y_train , y_test = train_test_split(\n",
        "machine_data,machine_labels,test_size =0.2,random_state =42)\n",
        "\n",
        "# Define model\n",
        "tree_reg = DecisionTreeRegressor()\n",
        "\n",
        "# Train\n",
        "tree_reg.fit(X_train,y_train)\n",
        "\n",
        "# Preidct and evaluate\n",
        "y_pred = tree_reg.predict(X_test)\n",
        "mean_squared_error(y_test,y_pred)"
      ],
      "metadata": {
        "colab": {
          "base_uri": "https://localhost:8080/"
        },
        "id": "eCbJnh7bdvRn",
        "outputId": "a06230c1-159d-4ed4-dc09-5e035eb721cc"
      },
      "execution_count": 6,
      "outputs": [
        {
          "output_type": "stream",
          "name": "stderr",
          "text": [
            "/usr/local/lib/python3.10/dist-packages/sklearn/datasets/_openml.py:311: UserWarning: Multiple active versions of the dataset matching the name machine_cpu exist. Versions may be fundamentally different, returning version 1.\n",
            "  warn(\n",
            "/usr/local/lib/python3.10/dist-packages/sklearn/datasets/_openml.py:1022: FutureWarning: The default value of `parser` will change from `'liac-arff'` to `'auto'` in 1.4. You can set `parser='auto'` to silence this warning. Therefore, an `ImportError` will be raised from 1.4 if the dataset is dense and pandas is not installed. Note that the pandas parser may return different data types. See the Notes Section in fetch_openml's API doc for details.\n",
            "  warn(\n"
          ]
        },
        {
          "output_type": "execute_result",
          "data": {
            "text/plain": [
              "9241.74074074074"
            ]
          },
          "metadata": {},
          "execution_count": 6
        }
      ]
    }
  ]
}