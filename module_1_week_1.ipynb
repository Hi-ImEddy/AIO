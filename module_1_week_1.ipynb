{
  "cells": [
    {
      "cell_type": "code",
      "execution_count": 8,
      "metadata": {
        "colab": {
          "base_uri": "https://localhost:8080/"
        },
        "id": "bt5Qk404dG94",
        "outputId": "3610e5b3-99df-447c-aa04-dd0b5f3f8526"
      },
      "outputs": [
        {
          "name": "stdout",
          "output_type": "stream",
          "text": [
            "precision: 0.4\n",
            "recall: 0.3333333333333333\n",
            "f1_score: 0.3636363636363636\n"
          ]
        },
        {
          "data": {
            "text/plain": [
              "0.3636363636363636"
            ]
          },
          "execution_count": 8,
          "metadata": {},
          "output_type": "execute_result"
        }
      ],
      "source": [
        "#1. Viết function thực hiện đánh giá classification model bằng F1-Score.\n",
        "def f1_score(tp, fp, fn):\n",
        "  if not isinstance(tp, int) or not isinstance(fp, int) or not isinstance(fn, int):\n",
        "    raise TypeError(\"tp, fp, fn must be int\")\n",
        "\n",
        "  if tp <= 0 or fp <= 0 or fn <= 0:\n",
        "    raise ValueError(\"tp, fp, fn must be > 0\")\n",
        "\n",
        "  precision = tp / (tp + fp)\n",
        "  recall = tp / (tp + fn)\n",
        "  f1_score = 2 * precision * recall / (precision + recall)\n",
        "\n",
        "  print(f\"precision: {precision}\")\n",
        "  print(f\"recall: {recall}\")\n",
        "  print(f\"f1_score: {f1_score}\")\n",
        "\n",
        "  return f1_score\n",
        "# Test function\n",
        "f1_score(2, 3, 4)\n",
        "#f1_score('a', 3, 4)"
      ]
    },
    {
      "cell_type": "code",
      "execution_count": 37,
      "metadata": {
        "colab": {
          "base_uri": "https://localhost:8080/"
        },
        "id": "bCur_4yDfNJ5",
        "outputId": "85a50284-d7cc-4062-cf31-8296df0bbc17"
      },
      "outputs": [
        {
          "name": "stdout",
          "output_type": "stream",
          "text": [
            "Input x : 2\n",
            "Input activation function ( sigmoid | relu | elu ) : sigmoid\n",
            "sigmoid f(2.0) = 0.8807970779778823\n"
          ]
        }
      ],
      "source": [
        "#2. Viết function mô phỏng theo 3 activation function.\n",
        "'''\n",
        "Sigmoid Function\n",
        "ReLU Function\n",
        "ELU Function\n",
        "'''\n",
        "import math\n",
        "\n",
        "def is_number(n):\n",
        "  try:\n",
        "    float(n)\n",
        "    return True\n",
        "  except ValueError:\n",
        "    return False\n",
        "\n",
        "def sigmoid(x):\n",
        "  return 1 / (1 + math.exp(-x))\n",
        "\n",
        "def relu(x):\n",
        "  return max(0, x)\n",
        "\n",
        "def elu(x, alpha):\n",
        "  if x < 0:\n",
        "    return alpha * (math.exp(x) - 1)\n",
        "  else:\n",
        "    return x\n",
        "\n",
        "def activation_function():\n",
        "  x = input(\"Input x : \")\n",
        "  if is_number(x) != True:\n",
        "    raise ValueError(\"Error: x must be a number\")\n",
        "  activation_function = input(\"Input activation function ( sigmoid | relu | elu ) : \")\n",
        "  if activation_function not in ['sigmoid', 'relu', 'elu']:\n",
        "    raise ValueError(\"Error: activation function must be sigmoid | relu | elu\")\n",
        "\n",
        "  x = float(x)\n",
        "  switcher = {\n",
        "    'sigmoid': sigmoid(x),\n",
        "    'relu': relu(x),\n",
        "    'elu': elu(x, 0.01)\n",
        "  }\n",
        "  return activation_function, x, switcher.get(activation_function)\n",
        "\n",
        "def exercise2():\n",
        "  try:\n",
        "    a_func, x, result_number = activation_function()\n",
        "    return print(f\"{a_func} f({x}) = {result_number}\")\n",
        "  except Exception as e:\n",
        "    print(e)\n",
        "\n",
        "#run\n",
        "exercise2()\n"
      ]
    },
    {
      "cell_type": "code",
      "execution_count": 9,
      "metadata": {
        "colab": {
          "base_uri": "https://localhost:8080/"
        },
        "id": "5V_12d-Uowut",
        "outputId": "8751497a-3d7b-4fe0-a3f5-37c76c0a5b29"
      },
      "outputs": [
        {
          "name": "stdout",
          "output_type": "stream",
          "text": [
            "Input number of samples ( integer number ) which are generated :2\n",
            "Input loss function ( MAE | MSE | RMSE ) : MAE\n",
            "loss name: MAE, sample: 0, pred: 5.670145372874046, target: 9.151746403496942, loss 3.4816010306228957\n",
            "loss name: MAE, sample: 1, pred: 1.3797138240359463, target: 1.3596524448026104, loss 0.020061379233335952\n",
            "MAE: 1.7508312049281158\n"
          ]
        }
      ],
      "source": [
        "#3 Viết function lựa chọn regression loss function để tính loss:\n",
        "import random\n",
        "import math\n",
        "\n",
        "def mae(num_samples):\n",
        "  loss = 0\n",
        "  for i in range(0, num_samples):\n",
        "    predict = random.uniform(0, 10)\n",
        "    target = random.uniform(0, 10)\n",
        "\n",
        "    current_loss = abs(predict - target)\n",
        "    print(f\"loss name: MAE, sample: {i}, pred: {predict}, target: {target}, loss {current_loss}\");\n",
        "\n",
        "    loss  += abs(predict - target)\n",
        "\n",
        "  result = loss / num_samples\n",
        "  print(f\"final MAE: {result}\")\n",
        "  return result\n",
        "\n",
        "def mse(num_samples):\n",
        "  loss = 0\n",
        "  for i in range(0, num_samples):\n",
        "    predict = random.uniform(0, 10)\n",
        "    target = random.uniform(0, 10)\n",
        "\n",
        "    current_loss = (predict - target) ** 2\n",
        "    print (f\"loss name: MSE, sample: {i}, pred: {predict}, target: {target}, loss {current_loss}\");\n",
        "\n",
        "    loss  += current_loss\n",
        "\n",
        "  result = loss / num_samples\n",
        "  print(f\"final MSE: {result}\")\n",
        "  return result\n",
        "\n",
        "def rmse(num_samples):\n",
        "  loss = 0\n",
        "  for i in range(0, num_samples):\n",
        "    predict = random.uniform(0, 10)\n",
        "    target = random.uniform(0, 10)\n",
        "\n",
        "    current_loss = (predict - target) ** 2\n",
        "    print (f\"loss name: RMSE, sample: {i}, pred: {predict}, target: {target}, loss {current_loss}\");\n",
        "\n",
        "    loss  += current_loss\n",
        "\n",
        "  result = math.sqrt(loss / num_samples)\n",
        "  print(f\"final RMSE: {result}\")\n",
        "  return result\n",
        "\n",
        "def calc_loss():\n",
        "  num_samples = input(\"Input number of samples ( integer number ) which are generated :\")\n",
        "  if num_samples.isnumeric():\n",
        "    num_samples = int(num_samples)\n",
        "  else:\n",
        "    return print(\"Error: x must be a number\")\n",
        "\n",
        "  loss_name = input(\"Input loss function ( MAE | MSE | RMSE ) : \")\n",
        "  if loss_name not in ['MAE', 'MSE', 'RMSE']:\n",
        "    return print(\"Error: loss function must be MAE | MSE | RMSE\")\n",
        "\n",
        "  if loss_name == 'MAE':\n",
        "    mae(num_samples)\n",
        "  elif loss_name == 'MSE':\n",
        "    mse(num_samples)\n",
        "  elif loss_name == 'RMSE':\n",
        "    rmse(num_samples)\n",
        "\n",
        "def exercise3():\n",
        "  try:\n",
        "    calc_loss()\n",
        "  except Exception as e:\n",
        "    print(e)\n",
        "\n",
        "#run\n",
        "exercise3()"
      ]
    },
    {
      "cell_type": "code",
      "execution_count": 17,
      "metadata": {
        "colab": {
          "base_uri": "https://localhost:8080/"
        },
        "id": "9fvs5TF19--J",
        "outputId": "c4de9180-1a8d-4e9b-92e5-869f62fe9926"
      },
      "outputs": [
        {
          "name": "stdout",
          "output_type": "stream",
          "text": [
            "0.0015926529267151343\n",
            "-0.9999987316527259\n",
            "11.53029203039954\n",
            "11.573574828234543\n"
          ]
        }
      ],
      "source": [
        "#4. Viết 4 functions để ước lượng các hàm số sau.\n",
        "\n",
        "#function\n",
        "def factory_cal(n):\n",
        "  result = 1\n",
        "  for i in range(1, n + 1):\n",
        "    result *= i\n",
        "  return result\n",
        "\n",
        "def approx_sin(rad, n):\n",
        "  result = 0\n",
        "  for i in range(0, n + 1):\n",
        "    result += ((-1) ** i) * (rad ** (2 * i + 1)) / factory_cal(2 * i + 1)\n",
        "  return result\n",
        "def approx_cos(rad, n):\n",
        "  result = 0\n",
        "  for i in range(0, n + 1):\n",
        "    result += ((-1) ** i) * (rad ** (2 * i)) / factory_cal(2 * i)\n",
        "  return result\n",
        "\n",
        "def approx_sinh(rad, n):\n",
        "  result = 0\n",
        "  for i in range(0, n + 1):\n",
        "    result += (rad ** (2 * i + 1)) / factory_cal(2 * i + 1)\n",
        "  return result\n",
        "def approx_cosh(rad, n):\n",
        "  result = 0\n",
        "  for i in range(0, n + 1):\n",
        "    result += (rad ** (2 * i)) / factory_cal(2 * i)\n",
        "  return result\n",
        "\n",
        "#testing\n",
        "print(approx_sin(3.14, 10))\n",
        "print(approx_cos(3.14, 10))\n",
        "print(approx_sinh(3.14, 10))\n",
        "print(approx_cosh(3.14, 10))\n"
      ]
    },
    {
      "cell_type": "code",
      "execution_count": 23,
      "metadata": {
        "colab": {
          "base_uri": "https://localhost:8080/"
        },
        "id": "OwvjA9OSBOdZ",
        "outputId": "61b40344-a5fa-4380-b37b-a448278627ad"
      },
      "outputs": [
        {
          "name": "stdout",
          "output_type": "stream",
          "text": [
            "0.025031328369998107 0.03544417213033135 0.05625552183565574\n"
          ]
        }
      ],
      "source": [
        "#5. Viết function thực hiện Mean Difference of nth Root Error:\n",
        "def md_nre_single_sample(y, y_hat, n, p):\n",
        "  return (y ** (1 / n) - y_hat ** (1 / n)) ** p\n",
        "#test\n",
        "print(\n",
        "    md_nre_single_sample(y=100, y_hat=99.5, n=2, p=1),\n",
        "    md_nre_single_sample(y =50, y_hat=49.5, n=2, p =1),\n",
        "    md_nre_single_sample(y =20, y_hat=19.5, n=2,p =1),\n",
        "    md_nre_single_sample(y =0.6, y_hat=0.1, n=2,p =1)\n",
        "    )\n"
      ]
    }
  ],
  "metadata": {
    "colab": {
      "provenance": []
    },
    "kernelspec": {
      "display_name": "Python 3",
      "name": "python3"
    },
    "language_info": {
      "name": "python"
    }
  },
  "nbformat": 4,
  "nbformat_minor": 0
}
